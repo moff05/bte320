{
  "nbformat": 4,
  "nbformat_minor": 0,
  "metadata": {
    "colab": {
      "provenance": [],
      "authorship_tag": "ABX9TyOY8YSf4KKcBZxeGDetBSNB",
      "include_colab_link": true
    },
    "kernelspec": {
      "name": "python3",
      "display_name": "Python 3"
    },
    "language_info": {
      "name": "python"
    }
  },
  "cells": [
    {
      "cell_type": "markdown",
      "metadata": {
        "id": "view-in-github",
        "colab_type": "text"
      },
      "source": [
        "<a href=\"https://colab.research.google.com/github/moff05/bte320/blob/main/InClassAssignment.ipynb\" target=\"_parent\"><img src=\"https://colab.research.google.com/assets/colab-badge.svg\" alt=\"Open In Colab\"/></a>"
      ]
    },
    {
      "cell_type": "code",
      "execution_count": null,
      "metadata": {
        "colab": {
          "base_uri": "https://localhost:8080/"
        },
        "id": "lDYn8h3oryHr",
        "outputId": "dd6b43d8-a267-4b59-9592-d4ff99d656e2"
      },
      "outputs": [
        {
          "output_type": "stream",
          "name": "stdout",
          "text": [
            "enter a number: 11\n",
            "enter a number: 2\n",
            "enter a symbol (+, -, *, /, //, **, %): /\n",
            "11.0 / 2.0 = 5.5\n"
          ]
        }
      ],
      "source": [
        "a = float(input(\"enter a number: \"))\n",
        "b = float(input(\"enter a number: \"))\n",
        "c = input(\"enter a symbol (+, -, *, /, //, **, %): \")\n",
        "\n",
        "if (c == '+'):\n",
        "  print(f\"{a} + {b} = \" + str(a+b))\n",
        "elif (c == '-'):\n",
        "  print(f\"{a} - {b} = \" + str(a-b))\n",
        "elif (c == '*'):\n",
        "  print(f\"{a} * {b} = \" + str(a*b))\n",
        "elif (c == '/'):\n",
        "  print(f\"{a} / {b} = \" + str(a/b))\n",
        "elif (c == '//'):\n",
        "  print(f\"{a} // {b} = \" + str(a//b))\n",
        "elif (c == '**'):\n",
        "  print(f\"{a} ** {b} = \" + str(a**b))\n",
        "elif (c == '%'):\n",
        "  print(f\"{a} % {b} = \" + str(a%b))\n",
        "else:\n",
        "  print(\"invalid symbol\")"
      ]
    },
    {
      "cell_type": "code",
      "source": [
        "x = int(input(\"enter a number: \"))\n",
        "if x%2 == 0:\n",
        "  result = \"Even\"\n",
        "else:\n",
        "  result = \"Odd\"\n",
        "print(f\"{x} is {result}\")"
      ],
      "metadata": {
        "colab": {
          "base_uri": "https://localhost:8080/"
        },
        "id": "komW_fp7xyCr",
        "outputId": "fe5360e0-eadd-419c-d548-8219d93ca43d"
      },
      "execution_count": null,
      "outputs": [
        {
          "output_type": "stream",
          "name": "stdout",
          "text": [
            "enter a number: 5\n",
            "5 is Odd\n"
          ]
        }
      ]
    },
    {
      "cell_type": "code",
      "source": [
        "#PARKING GARAGE\n",
        "fixedFee = 5\n",
        "hourlyFee = 2.50\n",
        "minFee = 10\n",
        "maxFee = 20\n",
        "\n",
        "for hours in range(1,9):\n",
        "  price = fixedFee + hourlyFee * hours\n",
        "  if price < minFee:\n",
        "    price = minFee\n",
        "  elif price > maxFee:\n",
        "    price = maxFee\n",
        "  print(f\"price for {hours} hours is ${price}\")"
      ],
      "metadata": {
        "colab": {
          "base_uri": "https://localhost:8080/"
        },
        "id": "SQ-VUCDpYZ61",
        "outputId": "93740ff8-91f7-45be-9c3f-5711cc922508"
      },
      "execution_count": null,
      "outputs": [
        {
          "output_type": "stream",
          "name": "stdout",
          "text": [
            "price for 1 hours is $10\n",
            "price for 2 hours is $10.0\n",
            "price for 3 hours is $12.5\n",
            "price for 4 hours is $15.0\n",
            "price for 5 hours is $17.5\n",
            "price for 6 hours is $20.0\n",
            "price for 7 hours is $20\n",
            "price for 8 hours is $20\n"
          ]
        }
      ]
    },
    {
      "cell_type": "code",
      "source": [
        "#MOVIE THEATER\n",
        "ticket = 10\n",
        "adDollars = 0\n",
        "fixedCost= 200\n",
        "attendees = 20\n",
        "\n",
        "print(\"Ads Profit\")\n",
        "for adDollars in range(0,201,25):\n",
        "  additional_attendees = 2 * round(adDollars**.5)\n",
        "  Profit = ticket * (attendees + additional_attendees) - adDollars - fixedCost\n",
        "  print(f\"${adDollars} = ${Profit}\")\n"
      ],
      "metadata": {
        "colab": {
          "base_uri": "https://localhost:8080/"
        },
        "id": "j0Innw5ddYx5",
        "outputId": "17cdc1ca-afd2-4d9e-8698-399e91fbdbb5"
      },
      "execution_count": null,
      "outputs": [
        {
          "output_type": "stream",
          "name": "stdout",
          "text": [
            "Ads Profit\n",
            "$0 = $0\n",
            "$25 = $75\n",
            "$50 = $90\n",
            "$75 = $105\n",
            "$100 = $100\n",
            "$125 = $95\n",
            "$150 = $90\n",
            "$175 = $85\n",
            "$200 = $80\n"
          ]
        }
      ]
    },
    {
      "cell_type": "code",
      "source": [
        "print('Ads$\\t', 'Profit')\n",
        "adMoney = 0\n",
        "while adMoney < 201:\n",
        "  rev = (20 + 2 * round(adMoney**.5)) * 10\n",
        "  costs = adMoney + 200\n",
        "  profit = rev - costs\n",
        "  print(adMoney, '\\t', profit)\n",
        "  adMoney = adMoney + 25"
      ],
      "metadata": {
        "colab": {
          "base_uri": "https://localhost:8080/"
        },
        "id": "togdmwl4w8F0",
        "outputId": "62b4c888-db11-469b-86b9-6f0f42e42c0d"
      },
      "execution_count": null,
      "outputs": [
        {
          "output_type": "stream",
          "name": "stdout",
          "text": [
            "Ads$\t Profit\n",
            "0 \t 0\n",
            "25 \t 75\n",
            "50 \t 90\n",
            "75 \t 105\n",
            "100 \t 100\n",
            "125 \t 95\n",
            "150 \t 90\n",
            "175 \t 85\n",
            "200 \t 80\n"
          ]
        }
      ]
    },
    {
      "cell_type": "code",
      "source": [
        "num = 9\n",
        "while num > 0:\n",
        "  num -= 1\n",
        "  if num == 5:\n",
        "    break\n",
        "  print(num)\n",
        "print(\"End of loop\")"
      ],
      "metadata": {
        "colab": {
          "base_uri": "https://localhost:8080/"
        },
        "id": "EWx158dD0F8s",
        "outputId": "0829a79e-f0a3-4bc7-e14a-99d84d98c168"
      },
      "execution_count": null,
      "outputs": [
        {
          "output_type": "stream",
          "name": "stdout",
          "text": [
            "8\n",
            "7\n",
            "6\n",
            "End of loop\n"
          ]
        }
      ]
    },
    {
      "cell_type": "code",
      "source": [
        "for num in range(1,11):\n",
        "  if num%2 != 0:\n",
        "    continue\n",
        "  print(num, end = ' ')"
      ],
      "metadata": {
        "colab": {
          "base_uri": "https://localhost:8080/"
        },
        "id": "9GMSvKHX1YCF",
        "outputId": "3af6e379-0388-4112-8cbb-0c4507c3c5a6"
      },
      "execution_count": null,
      "outputs": [
        {
          "output_type": "stream",
          "name": "stdout",
          "text": [
            "2 4 6 8 10 "
          ]
        }
      ]
    },
    {
      "cell_type": "code",
      "source": [
        "# ROCK PAPER SCISSORS\n",
        "move1 = input('Player 1: Rock, Paper, Scissors? (r/p/s) - ')\n",
        "move2 = input('Player 2: Rock, Paper, Scissors? (r/p/s) - ')\n",
        "move1 = move1.lower()\n",
        "move2 = move2.lower()\n",
        "playAgain = 'y'\n",
        "\n",
        "while playAgain == 'y':\n",
        "  if move1 == move2:\n",
        "    print('Draw\\n')\n",
        "  elif move1 == 'r' and move2 == 's':\n",
        "    print('Player 1 wins\\n')\n",
        "  elif move1 == 'r' and move2 == 'p':\n",
        "    print('Player 2 wins\\n')\n",
        "  elif move1 == 'p' and move2 == 'r':\n",
        "    print('Player 1 wins\\n')\n",
        "  elif move1 == 'p' and move2 == 's':\n",
        "    print('Player 2 wins\\n')\n",
        "  elif move1 == 's' and move2 == 'p':\n",
        "    print('Player 1 wins\\n')\n",
        "  elif move1 == 's' and move2 == 'r':\n",
        "    print('Player 2 wins\\n')\n",
        "  else:\n",
        "    print('Invalid move\\n')\n",
        "  playAgain = input('Do you want to play again? (y/n) - ')\n",
        "  playAgain = playAgain.lower()\n",
        "  if playAgain == 'y':\n",
        "    move1 = input('Player 1: Rock, Paper, Scissors? (r/p/s) - ')\n",
        "    move2 = input('Player 2: Rock, Paper, Scissors? (r/p/s) - ')"
      ],
      "metadata": {
        "colab": {
          "base_uri": "https://localhost:8080/"
        },
        "id": "S6UKRUZlHgZE",
        "outputId": "7eb75d65-f6bf-4dbe-bd78-7ed6b0bdd581"
      },
      "execution_count": null,
      "outputs": [
        {
          "name": "stdout",
          "output_type": "stream",
          "text": [
            "Player 1: Rock, Paper, Scissors? (r/p/s) - r\n",
            "Player 2: Rock, Paper, Scissors? (r/p/s) - p\n",
            "Player 2 wins\n",
            "\n",
            "Do you want to play again? (y/n) - y\n",
            "Player 1: Rock, Paper, Scissors? (r/p/s) - p\n",
            "Player 2: Rock, Paper, Scissors? (r/p/s) - r\n",
            "Player 1 wins\n",
            "\n",
            "Do you want to play again? (y/n) - y\n",
            "Player 1: Rock, Paper, Scissors? (r/p/s) - p\n",
            "Player 2: Rock, Paper, Scissors? (r/p/s) - p\n",
            "Draw\n",
            "\n",
            "Do you want to play again? (y/n) - n\n"
          ]
        }
      ]
    },
    {
      "cell_type": "code",
      "source": [
        "### Empty list\n",
        "list1 = []\n",
        "uInput = int(input(\"Enter an integer. use 0 to stop: \"))\n",
        "while uInput != 0:\n",
        "  list1.append(uInput)\n",
        "  uInput = int(input(\"Enter an integer: \"))\n",
        "\n",
        "listfinal = sorted(list1)\n",
        "listfinal.reverse()\n",
        "\n",
        "print(listfinal)"
      ],
      "metadata": {
        "colab": {
          "base_uri": "https://localhost:8080/"
        },
        "id": "JlXXA1PZPNHG",
        "outputId": "dd50b98b-8340-4209-9760-3876fc184473"
      },
      "execution_count": null,
      "outputs": [
        {
          "output_type": "stream",
          "name": "stdout",
          "text": [
            "Enter an integer. use 0 to stop: 100\n",
            "Enter an integer: 50\n",
            "Enter an integer: 25\n",
            "Enter an integer: 51\n",
            "Enter an integer: 83\n",
            "Enter an integer: 101\n",
            "Enter an integer: 0\n",
            "[101, 100, 83, 51, 50, 25]\n"
          ]
        }
      ]
    },
    {
      "cell_type": "code",
      "source": [
        "months = {}\n",
        "\n",
        "names = [\"Jan\", \"Feb\", \"Mar\", \"Apr\", \"May\", \"Jun\", \"Jul\", \"Aug\", \"Sep\", \"Oct\", \"Nov\", \"Dec\"]\n",
        "numbers = [1,2,3,4,5,6,7,8,9,10,11,12]\n",
        "\n",
        "for i in range(len(numbers)):\n",
        "  months[numbers[i]] = names[i]\n",
        "\n",
        "print(months)"
      ],
      "metadata": {
        "colab": {
          "base_uri": "https://localhost:8080/"
        },
        "id": "7t_PAMJJxhTl",
        "outputId": "d9dd858f-cdd2-4830-db55-250e8c7c7eba"
      },
      "execution_count": null,
      "outputs": [
        {
          "output_type": "stream",
          "name": "stdout",
          "text": [
            "{1: 'Jan', 2: 'Feb', 3: 'Mar', 4: 'Apr', 5: 'May', 6: 'Jun', 7: 'Jul', 8: 'Aug', 9: 'Sep', 10: 'Oct', 11: 'Nov', 12: 'Dec'}\n"
          ]
        }
      ]
    },
    {
      "cell_type": "code",
      "source": [
        "counts = {}\n",
        "\n",
        "#loop until 5 distinct strings have been entred\n",
        "while len(counts) < 5:\n",
        "  uInput = input(\"enter string: \")\n",
        "  if uInput in counts:\n",
        "    counts[uInput] += 1\n",
        "  else:\n",
        "    counts[uInput] = 1\n",
        "\n",
        "print(counts)"
      ],
      "metadata": {
        "colab": {
          "base_uri": "https://localhost:8080/"
        },
        "id": "2BNiWpC-y9Lp",
        "outputId": "72ef2b13-a64a-4eef-d009-ffb7c5408616"
      },
      "execution_count": null,
      "outputs": [
        {
          "output_type": "stream",
          "name": "stdout",
          "text": [
            "enter string: hi\n",
            "enter string: hello\n",
            "enter string: hey\n",
            "enter string: hey\n",
            "enter string: pal\n",
            "enter string: whats up\n",
            "{'hi': 1, 'hello': 1, 'hey': 2, 'pal': 1, 'whats up': 1}\n"
          ]
        }
      ]
    },
    {
      "cell_type": "code",
      "source": [
        "odds = []\n",
        "\n",
        "for num in range(1,10,2):\n",
        "  odds.append(num)\n",
        "odds"
      ],
      "metadata": {
        "colab": {
          "base_uri": "https://localhost:8080/"
        },
        "id": "1wk7hDr4PFef",
        "outputId": "e44f2f1d-453c-4324-82e8-6eec8e51539e"
      },
      "execution_count": null,
      "outputs": [
        {
          "output_type": "execute_result",
          "data": {
            "text/plain": [
              "[1, 3, 5, 7, 9]"
            ]
          },
          "metadata": {},
          "execution_count": 1
        }
      ]
    },
    {
      "cell_type": "code",
      "source": [
        "def adder(input1, input2):\n",
        "  output = input1 + input2\n",
        "  return output"
      ],
      "metadata": {
        "id": "jwmEk9eOS5yV"
      },
      "execution_count": null,
      "outputs": []
    },
    {
      "cell_type": "code",
      "source": [
        "x = 2\n",
        "y= 1.5\n",
        "z =adder(x,y)\n",
        "print(z)"
      ],
      "metadata": {
        "colab": {
          "base_uri": "https://localhost:8080/"
        },
        "id": "KS4rTdifTBUU",
        "outputId": "b8356a0c-44ea-4b25-9747-b0c6c2c09cd6"
      },
      "execution_count": null,
      "outputs": [
        {
          "output_type": "stream",
          "name": "stdout",
          "text": [
            "3.5\n"
          ]
        }
      ]
    },
    {
      "cell_type": "code",
      "source": [
        "#Parking Garage 2 - with user input\n",
        "def calcFee(hours):\n",
        "  fixedFee = 5\n",
        "  hourlyFee = 2.50\n",
        "  minFee = 10\n",
        "  maxFee = 20\n",
        "\n",
        "  hours = int(input(\"enter number of hours: \"))\n",
        "\n",
        "  if hours < 1:\n",
        "    print(\"invalid number of hours\")\n",
        "\n",
        "  else:\n",
        "    price = fixedFee + hourlyFee * hours\n",
        "    if price < minFee:\n",
        "      price = minFee\n",
        "    elif price > maxFee:\n",
        "      price = maxFee\n",
        "    print(f\"price for {hours} hours is ${price}\")"
      ],
      "metadata": {
        "id": "S-GpwPACmfhY"
      },
      "execution_count": null,
      "outputs": []
    },
    {
      "cell_type": "code",
      "source": [
        "calcFee(hours)"
      ],
      "metadata": {
        "colab": {
          "base_uri": "https://localhost:8080/"
        },
        "id": "gyHYTGnnn_C1",
        "outputId": "5184419d-0d7f-4a53-8021-5b6cf89c96e5"
      },
      "execution_count": null,
      "outputs": [
        {
          "output_type": "stream",
          "name": "stdout",
          "text": [
            "enter number of hours parked: 5\n",
            "price for 5 hours is $17.5\n"
          ]
        }
      ]
    },
    {
      "cell_type": "code",
      "source": [
        "#STRING REVERSE\n",
        "def reverse(s):\n",
        "  if len(s) <= 1:\n",
        "    return s\n",
        "  else:\n",
        "    return s[-1] + reverse(s[:-1])\n",
        "    #return s[-1] + reverse(s[1:-1]) + s[0]\n",
        "    #return reverse(s[1:]) + s[0]\n",
        "\n",
        "reverse('hello')"
      ],
      "metadata": {
        "colab": {
          "base_uri": "https://localhost:8080/",
          "height": 35
        },
        "id": "OLOmCteRMlMB",
        "outputId": "e3f5ea34-a2e3-4b53-af17-d739f95dd845"
      },
      "execution_count": null,
      "outputs": [
        {
          "output_type": "execute_result",
          "data": {
            "text/plain": [
              "'olleh'"
            ],
            "application/vnd.google.colaboratory.intrinsic+json": {
              "type": "string"
            }
          },
          "metadata": {},
          "execution_count": 13
        }
      ]
    },
    {
      "cell_type": "code",
      "source": [
        "def linear_search(arr, target):\n",
        "  for item in arr:\n",
        "    if item == target:\n",
        "      return item\n",
        "  return -1\n",
        "\n",
        "linear_search([1,4,2,5], 8)"
      ],
      "metadata": {
        "colab": {
          "base_uri": "https://localhost:8080/"
        },
        "id": "oAc1usp4Ry1D",
        "outputId": "82155a25-7f3d-4f21-b51a-7d5b947a8a5c"
      },
      "execution_count": null,
      "outputs": [
        {
          "output_type": "execute_result",
          "data": {
            "text/plain": [
              "-1"
            ]
          },
          "metadata": {},
          "execution_count": 32
        }
      ]
    },
    {
      "cell_type": "code",
      "source": [
        "def bubble_sort(L):\n",
        "  for i in range(len(L)-1):\n",
        "    for j in range(len(L)-1):\n",
        "      if L[i] > L[j]:\n",
        "        L[i], L[j] = L[j], L[i]\n",
        "  return L"
      ],
      "metadata": {
        "id": "rkF2B2BmToZF"
      },
      "execution_count": null,
      "outputs": []
    },
    {
      "cell_type": "code",
      "source": [
        "def calcFee(hours):\n",
        "  fee = 5 + 2.5 * hours\n",
        "  if fee < 10:\n",
        "    fee = 10\n",
        "  elif fee > 20:\n",
        "    fee = 20\n",
        "  return fee\n",
        "\n",
        "def main():\n",
        "  while True:\n",
        "    try:\n",
        "      hours = int(input(\"enter number of hours: \"))\n",
        "      break\n",
        "    except ValueError:\n",
        "      print(\"Invalid input. Please enter a number.\")\n",
        "\n",
        "  print(f\"price for {hours} hours is ${calcFee(hours)}\")\n",
        "\n",
        "if __name__ == \"__main__\":\n",
        "  main()"
      ],
      "metadata": {
        "colab": {
          "base_uri": "https://localhost:8080/"
        },
        "id": "B_v865UrSYIQ",
        "outputId": "10bb3ce6-1e26-4ab5-ccbe-f8d001665158"
      },
      "execution_count": null,
      "outputs": [
        {
          "output_type": "stream",
          "name": "stdout",
          "text": [
            "enter number of hours: 5\n",
            "price for 5 hours is $17.5\n"
          ]
        }
      ]
    },
    {
      "cell_type": "code",
      "source": [
        "def getValues(n):\n",
        "  L = []\n",
        "  for i in range(n):\n",
        "    weight = float(input(\"enter weight: \"))\n",
        "    L.append(weight)\n",
        "  return L\n",
        "\n",
        "def calcAverage(aList):\n",
        "  print(f\"The average weight is {sum(aList[2:])/len(aList[2:])}\")\n",
        "\n",
        "if __name__ == \"__main__\":\n",
        "  n = int(input(\"enter size of list: \"))\n",
        "  aList = getValues(n)\n",
        "  calcAverage(aList)"
      ],
      "metadata": {
        "colab": {
          "base_uri": "https://localhost:8080/"
        },
        "id": "-d_XkL-zSrvc",
        "outputId": "ce9339f9-6b5e-4d17-af68-380c10797966"
      },
      "execution_count": null,
      "outputs": [
        {
          "output_type": "stream",
          "name": "stdout",
          "text": [
            "enter size of list: 6\n",
            "enter weight: 30\n",
            "enter weight: 32\n",
            "enter weight: 34\n",
            "enter weight: 36\n",
            "enter weight: 38\n",
            "enter weight: 40\n",
            "The average weight is 37.0\n"
          ]
        }
      ]
    },
    {
      "cell_type": "code",
      "source": [
        "class Greeting:\n",
        "  def __init__(self, first, last):\n",
        "    self.first = first\n",
        "    self.last = last\n",
        "\n",
        "  def display(self, formal = False):\n",
        "    if formal:\n",
        "      print(f\"Hello {self.first} {self.last}.\")\n",
        "    else:\n",
        "      print(f\"Hi {self.first}!\")\n",
        "\n",
        "  def __str__(self):\n",
        "    return f\"{self.first}, {self.last}\"\n",
        "    #return str(self.first) + \", \" + str(self.last)\n",
        "    #return \"{}, {}\".format(self.first, self.last)\n",
        "\n",
        "  def __repr__(self):\n",
        "    print(f\"{self.first}, {self.last}\")\n",
        "\n",
        "\n",
        "greeting = Greeting(\"Nicholas\", \"Moffett\")\n",
        "greeting.display(formal = True)\n",
        "greeting.display()\n",
        "greeting = Greeting(\"Donald\", \"Becker\")\n",
        "print(greeting)"
      ],
      "metadata": {
        "colab": {
          "base_uri": "https://localhost:8080/"
        },
        "id": "eFSSc7koYWc9",
        "outputId": "cd07b705-1eb9-4b98-b525-94bd91477601"
      },
      "execution_count": null,
      "outputs": [
        {
          "output_type": "stream",
          "name": "stdout",
          "text": [
            "Hello Nicholas Moffett.\n",
            "Hi Nicholas!\n",
            "Donald, Becker\n"
          ]
        }
      ]
    },
    {
      "cell_type": "code",
      "source": [
        "class Coordinate:\n",
        "  def __init__(self, x, y):\n",
        "    self.x = x\n",
        "    self.y = y\n",
        "\n",
        "  def distance(self, b):\n",
        "    dx = (self.x - b.x) ** 2\n",
        "    dy = (self.y - b.y) ** 2\n",
        "    dist = (dx + dy) ** 0.5\n",
        "    print(dist)\n",
        "\n",
        "a = Coordinate(0,0)\n",
        "b = Coordinate(3,4)\n",
        "a.distance(b)"
      ],
      "metadata": {
        "colab": {
          "base_uri": "https://localhost:8080/"
        },
        "id": "8kpTvvnat__3",
        "outputId": "957751c8-e235-4e40-f749-dc57d21dd288"
      },
      "execution_count": null,
      "outputs": [
        {
          "output_type": "stream",
          "name": "stdout",
          "text": [
            "5.0\n"
          ]
        }
      ]
    },
    {
      "cell_type": "code",
      "source": [
        "class Student:\n",
        "\n",
        "  def __init__(self, name, number):\n",
        "    self.name = name\n",
        "    self.number = number\n",
        "    self.courses = []\n",
        "\n",
        "  def enroll(self, course):\n",
        "    if course in self.courses:\n",
        "      print(\"you have already enrolled in\", course)\n",
        "    else:\n",
        "      self.courses.append(course)\n",
        "\n",
        "  def getCourses(self):\n",
        "    return self.courses\n",
        "\n",
        "s1 = Student(\"James Bond\", 7)\n",
        "s2 = Student(\"Clark Kent\", 333)\n",
        "s1.name, s2.name"
      ],
      "metadata": {
        "colab": {
          "base_uri": "https://localhost:8080/"
        },
        "id": "xdjCo8ID5OYR",
        "outputId": "f7eb2177-21b8-4c48-94d2-89cec9b3bedd"
      },
      "execution_count": 29,
      "outputs": [
        {
          "output_type": "execute_result",
          "data": {
            "text/plain": [
              "('James Bond', 'Clark Kent')"
            ]
          },
          "metadata": {},
          "execution_count": 29
        }
      ]
    },
    {
      "cell_type": "code",
      "source": [
        "s1.enroll(\"BTE320\")\n",
        "s1.enroll(\"BTE320\")\n",
        "s1.enroll(\"BTE401\")"
      ],
      "metadata": {
        "colab": {
          "base_uri": "https://localhost:8080/"
        },
        "id": "wnu-dnFbACav",
        "outputId": "b4036c09-de6f-4ee4-dd65-d1d85eefff8d"
      },
      "execution_count": 30,
      "outputs": [
        {
          "output_type": "stream",
          "name": "stdout",
          "text": [
            "you have already enrolled in BTE320\n"
          ]
        }
      ]
    },
    {
      "cell_type": "code",
      "source": [
        "s1.getCourses()"
      ],
      "metadata": {
        "colab": {
          "base_uri": "https://localhost:8080/"
        },
        "id": "_ePO0WaBAM3s",
        "outputId": "bec92886-96b1-412c-8d1a-2652a0b96ad0"
      },
      "execution_count": 32,
      "outputs": [
        {
          "output_type": "execute_result",
          "data": {
            "text/plain": [
              "['BTE320', 'BTE401']"
            ]
          },
          "metadata": {},
          "execution_count": 32
        }
      ]
    }
  ]
}