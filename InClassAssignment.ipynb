{
  "nbformat": 4,
  "nbformat_minor": 0,
  "metadata": {
    "colab": {
      "provenance": [],
      "authorship_tag": "ABX9TyNni9rjX14D2MKqQhRtqBiB",
      "include_colab_link": true
    },
    "kernelspec": {
      "name": "python3",
      "display_name": "Python 3"
    },
    "language_info": {
      "name": "python"
    }
  },
  "cells": [
    {
      "cell_type": "markdown",
      "metadata": {
        "id": "view-in-github",
        "colab_type": "text"
      },
      "source": [
        "<a href=\"https://colab.research.google.com/github/moff05/bte320/blob/main/InClassAssignment.ipynb\" target=\"_parent\"><img src=\"https://colab.research.google.com/assets/colab-badge.svg\" alt=\"Open In Colab\"/></a>"
      ]
    },
    {
      "cell_type": "code",
      "execution_count": null,
      "metadata": {
        "colab": {
          "base_uri": "https://localhost:8080/"
        },
        "id": "lDYn8h3oryHr",
        "outputId": "dd6b43d8-a267-4b59-9592-d4ff99d656e2"
      },
      "outputs": [
        {
          "output_type": "stream",
          "name": "stdout",
          "text": [
            "enter a number: 11\n",
            "enter a number: 2\n",
            "enter a symbol (+, -, *, /, //, **, %): /\n",
            "11.0 / 2.0 = 5.5\n"
          ]
        }
      ],
      "source": [
        "a = float(input(\"enter a number: \"))\n",
        "b = float(input(\"enter a number: \"))\n",
        "c = input(\"enter a symbol (+, -, *, /, //, **, %): \")\n",
        "\n",
        "if (c == '+'):\n",
        "  print(f\"{a} + {b} = \" + str(a+b))\n",
        "elif (c == '-'):\n",
        "  print(f\"{a} - {b} = \" + str(a-b))\n",
        "elif (c == '*'):\n",
        "  print(f\"{a} * {b} = \" + str(a*b))\n",
        "elif (c == '/'):\n",
        "  print(f\"{a} / {b} = \" + str(a/b))\n",
        "elif (c == '//'):\n",
        "  print(f\"{a} // {b} = \" + str(a//b))\n",
        "elif (c == '**'):\n",
        "  print(f\"{a} ** {b} = \" + str(a**b))\n",
        "elif (c == '%'):\n",
        "  print(f\"{a} % {b} = \" + str(a%b))\n",
        "else:\n",
        "  print(\"invalid symbol\")"
      ]
    },
    {
      "cell_type": "code",
      "source": [
        "x = int(input(\"enter a number: \"))\n",
        "if x%2 == 0:\n",
        "  result = \"Even\"\n",
        "else:\n",
        "  result = \"Odd\"\n",
        "print(f\"{x} is {result}\")"
      ],
      "metadata": {
        "colab": {
          "base_uri": "https://localhost:8080/"
        },
        "id": "komW_fp7xyCr",
        "outputId": "fe5360e0-eadd-419c-d548-8219d93ca43d"
      },
      "execution_count": 20,
      "outputs": [
        {
          "output_type": "stream",
          "name": "stdout",
          "text": [
            "enter a number: 5\n",
            "5 is Odd\n"
          ]
        }
      ]
    }
  ]
}