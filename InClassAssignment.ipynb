{
  "nbformat": 4,
  "nbformat_minor": 0,
  "metadata": {
    "colab": {
      "provenance": [],
      "authorship_tag": "ABX9TyPpAroxktBZPtjHXZGJmt8U",
      "include_colab_link": true
    },
    "kernelspec": {
      "name": "python3",
      "display_name": "Python 3"
    },
    "language_info": {
      "name": "python"
    }
  },
  "cells": [
    {
      "cell_type": "markdown",
      "metadata": {
        "id": "view-in-github",
        "colab_type": "text"
      },
      "source": [
        "<a href=\"https://colab.research.google.com/github/moff05/bte320/blob/main/InClassAssignment.ipynb\" target=\"_parent\"><img src=\"https://colab.research.google.com/assets/colab-badge.svg\" alt=\"Open In Colab\"/></a>"
      ]
    },
    {
      "cell_type": "code",
      "execution_count": null,
      "metadata": {
        "colab": {
          "base_uri": "https://localhost:8080/"
        },
        "id": "lDYn8h3oryHr",
        "outputId": "dd6b43d8-a267-4b59-9592-d4ff99d656e2"
      },
      "outputs": [
        {
          "output_type": "stream",
          "name": "stdout",
          "text": [
            "enter a number: 11\n",
            "enter a number: 2\n",
            "enter a symbol (+, -, *, /, //, **, %): /\n",
            "11.0 / 2.0 = 5.5\n"
          ]
        }
      ],
      "source": [
        "a = float(input(\"enter a number: \"))\n",
        "b = float(input(\"enter a number: \"))\n",
        "c = input(\"enter a symbol (+, -, *, /, //, **, %): \")\n",
        "\n",
        "if (c == '+'):\n",
        "  print(f\"{a} + {b} = \" + str(a+b))\n",
        "elif (c == '-'):\n",
        "  print(f\"{a} - {b} = \" + str(a-b))\n",
        "elif (c == '*'):\n",
        "  print(f\"{a} * {b} = \" + str(a*b))\n",
        "elif (c == '/'):\n",
        "  print(f\"{a} / {b} = \" + str(a/b))\n",
        "elif (c == '//'):\n",
        "  print(f\"{a} // {b} = \" + str(a//b))\n",
        "elif (c == '**'):\n",
        "  print(f\"{a} ** {b} = \" + str(a**b))\n",
        "elif (c == '%'):\n",
        "  print(f\"{a} % {b} = \" + str(a%b))\n",
        "else:\n",
        "  print(\"invalid symbol\")"
      ]
    },
    {
      "cell_type": "code",
      "source": [
        "x = int(input(\"enter a number: \"))\n",
        "if x%2 == 0:\n",
        "  result = \"Even\"\n",
        "else:\n",
        "  result = \"Odd\"\n",
        "print(f\"{x} is {result}\")"
      ],
      "metadata": {
        "colab": {
          "base_uri": "https://localhost:8080/"
        },
        "id": "komW_fp7xyCr",
        "outputId": "fe5360e0-eadd-419c-d548-8219d93ca43d"
      },
      "execution_count": null,
      "outputs": [
        {
          "output_type": "stream",
          "name": "stdout",
          "text": [
            "enter a number: 5\n",
            "5 is Odd\n"
          ]
        }
      ]
    },
    {
      "cell_type": "code",
      "source": [
        "#PARKING GARAGE\n",
        "fixedFee = 5\n",
        "hourlyFee = 2.50\n",
        "minFee = 10\n",
        "maxFee = 20\n",
        "\n",
        "for hours in range(1,9):\n",
        "  price = fixedFee + hourlyFee * hours\n",
        "  if price < minFee:\n",
        "    price = minFee\n",
        "  elif price > maxFee:\n",
        "    price = maxFee\n",
        "  print(f\"price for {hours} hours is ${price}\")"
      ],
      "metadata": {
        "colab": {
          "base_uri": "https://localhost:8080/"
        },
        "id": "SQ-VUCDpYZ61",
        "outputId": "93740ff8-91f7-45be-9c3f-5711cc922508"
      },
      "execution_count": null,
      "outputs": [
        {
          "output_type": "stream",
          "name": "stdout",
          "text": [
            "price for 1 hours is $10\n",
            "price for 2 hours is $10.0\n",
            "price for 3 hours is $12.5\n",
            "price for 4 hours is $15.0\n",
            "price for 5 hours is $17.5\n",
            "price for 6 hours is $20.0\n",
            "price for 7 hours is $20\n",
            "price for 8 hours is $20\n"
          ]
        }
      ]
    },
    {
      "cell_type": "code",
      "source": [
        "#MOVIE THEATER\n",
        "ticket = 10\n",
        "adDollars = 0\n",
        "fixedCost= 200\n",
        "attendees = 20\n",
        "\n",
        "print(\"Ads Profit\")\n",
        "for adDollars in range(0,201,25):\n",
        "  additional_attendees = 2 * round(adDollars**.5)\n",
        "  Profit = ticket * (attendees + additional_attendees) - adDollars - fixedCost\n",
        "  print(f\"${adDollars} = ${Profit}\")\n"
      ],
      "metadata": {
        "colab": {
          "base_uri": "https://localhost:8080/"
        },
        "id": "j0Innw5ddYx5",
        "outputId": "17cdc1ca-afd2-4d9e-8698-399e91fbdbb5"
      },
      "execution_count": null,
      "outputs": [
        {
          "output_type": "stream",
          "name": "stdout",
          "text": [
            "Ads Profit\n",
            "$0 = $0\n",
            "$25 = $75\n",
            "$50 = $90\n",
            "$75 = $105\n",
            "$100 = $100\n",
            "$125 = $95\n",
            "$150 = $90\n",
            "$175 = $85\n",
            "$200 = $80\n"
          ]
        }
      ]
    },
    {
      "cell_type": "code",
      "source": [
        "print('Ads$\\t', 'Profit')\n",
        "adMoney = 0\n",
        "while adMoney < 201:\n",
        "  rev = (20 + 2 * round(adMoney**.5)) * 10\n",
        "  costs = adMoney + 200\n",
        "  profit = rev - costs\n",
        "  print(adMoney, '\\t', profit)\n",
        "  adMoney = adMoney + 25"
      ],
      "metadata": {
        "colab": {
          "base_uri": "https://localhost:8080/"
        },
        "id": "togdmwl4w8F0",
        "outputId": "62b4c888-db11-469b-86b9-6f0f42e42c0d"
      },
      "execution_count": null,
      "outputs": [
        {
          "output_type": "stream",
          "name": "stdout",
          "text": [
            "Ads$\t Profit\n",
            "0 \t 0\n",
            "25 \t 75\n",
            "50 \t 90\n",
            "75 \t 105\n",
            "100 \t 100\n",
            "125 \t 95\n",
            "150 \t 90\n",
            "175 \t 85\n",
            "200 \t 80\n"
          ]
        }
      ]
    },
    {
      "cell_type": "code",
      "source": [
        "num = 9\n",
        "while num > 0:\n",
        "  num -= 1\n",
        "  if num == 5:\n",
        "    break\n",
        "  print(num)\n",
        "print(\"End of loop\")"
      ],
      "metadata": {
        "colab": {
          "base_uri": "https://localhost:8080/"
        },
        "id": "EWx158dD0F8s",
        "outputId": "0829a79e-f0a3-4bc7-e14a-99d84d98c168"
      },
      "execution_count": null,
      "outputs": [
        {
          "output_type": "stream",
          "name": "stdout",
          "text": [
            "8\n",
            "7\n",
            "6\n",
            "End of loop\n"
          ]
        }
      ]
    },
    {
      "cell_type": "code",
      "source": [
        "for num in range(1,11):\n",
        "  if num%2 != 0:\n",
        "    continue\n",
        "  print(num, end = ' ')"
      ],
      "metadata": {
        "colab": {
          "base_uri": "https://localhost:8080/"
        },
        "id": "9GMSvKHX1YCF",
        "outputId": "3af6e379-0388-4112-8cbb-0c4507c3c5a6"
      },
      "execution_count": null,
      "outputs": [
        {
          "output_type": "stream",
          "name": "stdout",
          "text": [
            "2 4 6 8 10 "
          ]
        }
      ]
    },
    {
      "cell_type": "code",
      "source": [
        "# ROCK PAPER SCISSORS\n",
        "move1 = input('Player 1: Rock, Paper, Scissors? (r/p/s) - ')\n",
        "move2 = input('Player 2: Rock, Paper, Scissors? (r/p/s) - ')\n",
        "move1 = move1.lower()\n",
        "move2 = move2.lower()\n",
        "playAgain = 'y'\n",
        "\n",
        "while playAgain == 'y':\n",
        "  if move1 == move2:\n",
        "    print('Draw\\n')\n",
        "  elif move1 == 'r' and move2 == 's':\n",
        "    print('Player 1 wins\\n')\n",
        "  elif move1 == 'r' and move2 == 'p':\n",
        "    print('Player 2 wins\\n')\n",
        "  elif move1 == 'p' and move2 == 'r':\n",
        "    print('Player 1 wins\\n')\n",
        "  elif move1 == 'p' and move2 == 's':\n",
        "    print('Player 2 wins\\n')\n",
        "  elif move1 == 's' and move2 == 'p':\n",
        "    print('Player 1 wins\\n')\n",
        "  elif move1 == 's' and move2 == 'r':\n",
        "    print('Player 2 wins\\n')\n",
        "  else:\n",
        "    print('Invalid move\\n')\n",
        "  playAgain = input('Do you want to play again? (y/n) - ')\n",
        "  playAgain = playAgain.lower()\n",
        "  if playAgain == 'y':\n",
        "    move1 = input('Player 1: Rock, Paper, Scissors? (r/p/s) - ')\n",
        "    move2 = input('Player 2: Rock, Paper, Scissors? (r/p/s) - ')"
      ],
      "metadata": {
        "colab": {
          "base_uri": "https://localhost:8080/"
        },
        "id": "S6UKRUZlHgZE",
        "outputId": "7eb75d65-f6bf-4dbe-bd78-7ed6b0bdd581"
      },
      "execution_count": null,
      "outputs": [
        {
          "name": "stdout",
          "output_type": "stream",
          "text": [
            "Player 1: Rock, Paper, Scissors? (r/p/s) - r\n",
            "Player 2: Rock, Paper, Scissors? (r/p/s) - p\n",
            "Player 2 wins\n",
            "\n",
            "Do you want to play again? (y/n) - y\n",
            "Player 1: Rock, Paper, Scissors? (r/p/s) - p\n",
            "Player 2: Rock, Paper, Scissors? (r/p/s) - r\n",
            "Player 1 wins\n",
            "\n",
            "Do you want to play again? (y/n) - y\n",
            "Player 1: Rock, Paper, Scissors? (r/p/s) - p\n",
            "Player 2: Rock, Paper, Scissors? (r/p/s) - p\n",
            "Draw\n",
            "\n",
            "Do you want to play again? (y/n) - n\n"
          ]
        }
      ]
    },
    {
      "cell_type": "code",
      "source": [
        "### Empty list\n",
        "list1 = []\n",
        "uInput = int(input(\"Enter an integer. use 0 to stop: \"))\n",
        "while uInput != 0:\n",
        "  list1.append(uInput)\n",
        "  uInput = int(input(\"Enter an integer: \"))\n",
        "\n",
        "listfinal = sorted(list1)\n",
        "listfinal.reverse()\n",
        "\n",
        "print(listfinal)"
      ],
      "metadata": {
        "colab": {
          "base_uri": "https://localhost:8080/"
        },
        "id": "JlXXA1PZPNHG",
        "outputId": "dd50b98b-8340-4209-9760-3876fc184473"
      },
      "execution_count": null,
      "outputs": [
        {
          "output_type": "stream",
          "name": "stdout",
          "text": [
            "Enter an integer. use 0 to stop: 100\n",
            "Enter an integer: 50\n",
            "Enter an integer: 25\n",
            "Enter an integer: 51\n",
            "Enter an integer: 83\n",
            "Enter an integer: 101\n",
            "Enter an integer: 0\n",
            "[101, 100, 83, 51, 50, 25]\n"
          ]
        }
      ]
    },
    {
      "cell_type": "code",
      "source": [
        "months = {}\n",
        "\n",
        "names = [\"Jan\", \"Feb\", \"Mar\", \"Apr\", \"May\", \"Jun\", \"Jul\", \"Aug\", \"Sep\", \"Oct\", \"Nov\", \"Dec\"]\n",
        "numbers = [1,2,3,4,5,6,7,8,9,10,11,12]\n",
        "\n",
        "for i in range(len(numbers)):\n",
        "  months[numbers[i]] = names[i]\n",
        "\n",
        "print(months)"
      ],
      "metadata": {
        "colab": {
          "base_uri": "https://localhost:8080/"
        },
        "id": "7t_PAMJJxhTl",
        "outputId": "d9dd858f-cdd2-4830-db55-250e8c7c7eba"
      },
      "execution_count": 6,
      "outputs": [
        {
          "output_type": "stream",
          "name": "stdout",
          "text": [
            "{1: 'Jan', 2: 'Feb', 3: 'Mar', 4: 'Apr', 5: 'May', 6: 'Jun', 7: 'Jul', 8: 'Aug', 9: 'Sep', 10: 'Oct', 11: 'Nov', 12: 'Dec'}\n"
          ]
        }
      ]
    },
    {
      "cell_type": "code",
      "source": [
        "counts = {}\n",
        "\n",
        "#loop until 5 distinct strings have been entred\n",
        "while len(counts) < 5:\n",
        "  uInput = input(\"enter string: \")\n",
        "  if uInput in counts:\n",
        "    counts[uInput] += 1\n",
        "  else:\n",
        "    counts[uInput] = 1\n",
        "\n",
        "print(counts)"
      ],
      "metadata": {
        "colab": {
          "base_uri": "https://localhost:8080/"
        },
        "id": "2BNiWpC-y9Lp",
        "outputId": "72ef2b13-a64a-4eef-d009-ffb7c5408616"
      },
      "execution_count": 8,
      "outputs": [
        {
          "output_type": "stream",
          "name": "stdout",
          "text": [
            "enter string: hi\n",
            "enter string: hello\n",
            "enter string: hey\n",
            "enter string: hey\n",
            "enter string: pal\n",
            "enter string: whats up\n",
            "{'hi': 1, 'hello': 1, 'hey': 2, 'pal': 1, 'whats up': 1}\n"
          ]
        }
      ]
    }
  ]
}