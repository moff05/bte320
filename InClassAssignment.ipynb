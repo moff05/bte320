{
  "nbformat": 4,
  "nbformat_minor": 0,
  "metadata": {
    "colab": {
      "provenance": [],
      "authorship_tag": "ABX9TyM/ahBlFSxwJXzXt0ddb4N0",
      "include_colab_link": true
    },
    "kernelspec": {
      "name": "python3",
      "display_name": "Python 3"
    },
    "language_info": {
      "name": "python"
    }
  },
  "cells": [
    {
      "cell_type": "markdown",
      "metadata": {
        "id": "view-in-github",
        "colab_type": "text"
      },
      "source": [
        "<a href=\"https://colab.research.google.com/github/moff05/bte320/blob/main/InClassAssignment.ipynb\" target=\"_parent\"><img src=\"https://colab.research.google.com/assets/colab-badge.svg\" alt=\"Open In Colab\"/></a>"
      ]
    },
    {
      "cell_type": "code",
      "execution_count": null,
      "metadata": {
        "colab": {
          "base_uri": "https://localhost:8080/"
        },
        "id": "lDYn8h3oryHr",
        "outputId": "dd6b43d8-a267-4b59-9592-d4ff99d656e2"
      },
      "outputs": [
        {
          "output_type": "stream",
          "name": "stdout",
          "text": [
            "enter a number: 11\n",
            "enter a number: 2\n",
            "enter a symbol (+, -, *, /, //, **, %): /\n",
            "11.0 / 2.0 = 5.5\n"
          ]
        }
      ],
      "source": [
        "a = float(input(\"enter a number: \"))\n",
        "b = float(input(\"enter a number: \"))\n",
        "c = input(\"enter a symbol (+, -, *, /, //, **, %): \")\n",
        "\n",
        "if (c == '+'):\n",
        "  print(f\"{a} + {b} = \" + str(a+b))\n",
        "elif (c == '-'):\n",
        "  print(f\"{a} - {b} = \" + str(a-b))\n",
        "elif (c == '*'):\n",
        "  print(f\"{a} * {b} = \" + str(a*b))\n",
        "elif (c == '/'):\n",
        "  print(f\"{a} / {b} = \" + str(a/b))\n",
        "elif (c == '//'):\n",
        "  print(f\"{a} // {b} = \" + str(a//b))\n",
        "elif (c == '**'):\n",
        "  print(f\"{a} ** {b} = \" + str(a**b))\n",
        "elif (c == '%'):\n",
        "  print(f\"{a} % {b} = \" + str(a%b))\n",
        "else:\n",
        "  print(\"invalid symbol\")"
      ]
    },
    {
      "cell_type": "code",
      "source": [
        "x = int(input(\"enter a number: \"))\n",
        "if x%2 == 0:\n",
        "  result = \"Even\"\n",
        "else:\n",
        "  result = \"Odd\"\n",
        "print(f\"{x} is {result}\")"
      ],
      "metadata": {
        "colab": {
          "base_uri": "https://localhost:8080/"
        },
        "id": "komW_fp7xyCr",
        "outputId": "fe5360e0-eadd-419c-d548-8219d93ca43d"
      },
      "execution_count": null,
      "outputs": [
        {
          "output_type": "stream",
          "name": "stdout",
          "text": [
            "enter a number: 5\n",
            "5 is Odd\n"
          ]
        }
      ]
    },
    {
      "cell_type": "code",
      "source": [
        "#PARKING GARAGE\n",
        "fixedFee = 5\n",
        "hourlyFee = 2.50\n",
        "minFee = 10\n",
        "maxFee = 20\n",
        "\n",
        "for hours in range(1,9):\n",
        "  price = fixedFee + hourlyFee * hours\n",
        "  if price < minFee:\n",
        "    price = minFee\n",
        "  elif price > maxFee:\n",
        "    price = maxFee\n",
        "  print(f\"price for {hours} hours is ${price}\")"
      ],
      "metadata": {
        "colab": {
          "base_uri": "https://localhost:8080/"
        },
        "id": "SQ-VUCDpYZ61",
        "outputId": "93740ff8-91f7-45be-9c3f-5711cc922508"
      },
      "execution_count": 6,
      "outputs": [
        {
          "output_type": "stream",
          "name": "stdout",
          "text": [
            "price for 1 hours is $10\n",
            "price for 2 hours is $10.0\n",
            "price for 3 hours is $12.5\n",
            "price for 4 hours is $15.0\n",
            "price for 5 hours is $17.5\n",
            "price for 6 hours is $20.0\n",
            "price for 7 hours is $20\n",
            "price for 8 hours is $20\n"
          ]
        }
      ]
    },
    {
      "cell_type": "code",
      "source": [
        "#MOVIE THEATER\n",
        "ticket = 10\n",
        "adDollars = 0\n",
        "fixedCost= 200\n",
        "attendees = 20\n",
        "\n",
        "print(\"Ads Profit\")\n",
        "for adDollars in range(0,201,25):\n",
        "  additional_attendees = 2 * round(adDollars**.5)\n",
        "  Profit = ticket * (attendees + additional_attendees) - adDollars - fixedCost\n",
        "  print(f\"${adDollars} = ${Profit}\")\n",
        ""
      ],
      "metadata": {
        "colab": {
          "base_uri": "https://localhost:8080/"
        },
        "id": "j0Innw5ddYx5",
        "outputId": "17cdc1ca-afd2-4d9e-8698-399e91fbdbb5"
      },
      "execution_count": 25,
      "outputs": [
        {
          "output_type": "stream",
          "name": "stdout",
          "text": [
            "Ads Profit\n",
            "$0 = $0\n",
            "$25 = $75\n",
            "$50 = $90\n",
            "$75 = $105\n",
            "$100 = $100\n",
            "$125 = $95\n",
            "$150 = $90\n",
            "$175 = $85\n",
            "$200 = $80\n"
          ]
        }
      ]
    }
  ]
}