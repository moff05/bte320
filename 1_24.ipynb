{
  "nbformat": 4,
  "nbformat_minor": 0,
  "metadata": {
    "colab": {
      "provenance": [],
      "authorship_tag": "ABX9TyN4iy+/OWP2WJepcOAkjoax",
      "include_colab_link": true
    },
    "kernelspec": {
      "name": "python3",
      "display_name": "Python 3"
    },
    "language_info": {
      "name": "python"
    }
  },
  "cells": [
    {
      "cell_type": "markdown",
      "metadata": {
        "id": "view-in-github",
        "colab_type": "text"
      },
      "source": [
        "<a href=\"https://colab.research.google.com/github/moff05/bte320/blob/moff05-patch-1/1_24.ipynb\" target=\"_parent\"><img src=\"https://colab.research.google.com/assets/colab-badge.svg\" alt=\"Open In Colab\"/></a>"
      ]
    },
    {
      "cell_type": "code",
      "execution_count": null,
      "metadata": {
        "colab": {
          "base_uri": "https://localhost:8080/"
        },
        "id": "AozKrl98kU3V",
        "outputId": "bbdec0c4-1d8a-4b56-b2a3-72b19ce05963"
      },
      "outputs": [
        {
          "output_type": "stream",
          "name": "stdout",
          "text": [
            "Please provide your name: nic\n",
            "Hi nic\n"
          ]
        },
        {
          "output_type": "execute_result",
          "data": {
            "text/plain": [
              "str"
            ]
          },
          "metadata": {},
          "execution_count": 3
        }
      ],
      "source": [
        "name = input(\"Please provide your name: \")\n",
        "print('Hi', name)\n",
        "type(name)"
      ]
    },
    {
      "cell_type": "code",
      "source": [
        "age = input(\"Please provide your age: \")\n",
        "age = int(age)\n",
        "print('Your age is', age + 5)\n",
        "type(age)"
      ],
      "metadata": {
        "colab": {
          "base_uri": "https://localhost:8080/"
        },
        "id": "W4Nsk3eLmXY7",
        "outputId": "eac8c8e3-dc6a-40dc-d2b9-a5b1cf65edca"
      },
      "execution_count": null,
      "outputs": [
        {
          "output_type": "stream",
          "name": "stdout",
          "text": [
            "Please provide your age: 9\n",
            "Your age is 14\n"
          ]
        },
        {
          "output_type": "execute_result",
          "data": {
            "text/plain": [
              "int"
            ]
          },
          "metadata": {},
          "execution_count": 8
        }
      ]
    },
    {
      "cell_type": "code",
      "source": [
        "pi = 3.14\n",
        "radius = input(\"Please provide a radius \")\n",
        "height = input(\"Please provide a height \")\n",
        "\n",
        "radius = float(radius)\n",
        "height = float(height)\n",
        "\n",
        "area = 2 * pi * radius * height + 2 * pi * radius * radius\n",
        "volume = pi * radius * radius * height\n",
        "\n",
        "print(f'Area of cylinder: {area} sq.ft')\n",
        "print(f'Volume of cylinder: {volume} sq.ft')"
      ],
      "metadata": {
        "colab": {
          "base_uri": "https://localhost:8080/"
        },
        "id": "A4T836UtpYh4",
        "outputId": "86f92709-04cf-4fac-b6ff-22fa6c67c425"
      },
      "execution_count": null,
      "outputs": [
        {
          "output_type": "stream",
          "name": "stdout",
          "text": [
            "Please provide a radius 5\n",
            "Please provide a height 6\n",
            "Area of cylinder: 345.4 sq.ft\n",
            "Volume of cylinder: 471.0 sq.ft\n"
          ]
        }
      ]
    }
  ]
}